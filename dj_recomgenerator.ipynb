{
 "cells": [
  {
   "cell_type": "code",
   "execution_count": 24,
   "metadata": {
    "collapsed": true
   },
   "outputs": [],
   "source": [
    "name = 'George'\n",
    "surname = 'Kudryavtsev'\n",
    "when = \"September, 2014\"\n",
    "sex = \"m\"\n",
    "research = \"recommender systems\"\n",
    "to = \"the master's program at the Skolkovo Institute of Science and Technology\"\n",
    "\n",
    "\n",
    "fullname = name + ' ' + surname\n",
    "if (sex==\"m\"):\n",
    "    his = \"his\"\n",
    "    he = \"he\"\n",
    "    He = \"He\"\n",
    "    His = \"His\"\n",
    "else:\n",
    "    his = \"her\"\n",
    "    he = \"she\"\n",
    "    She = \"She\"\n",
    "    His = \"Her\"\n",
    "\n",
    "comment = \"\"\n",
    "# comment = \"Since \" + his +\" research topic is not widespread in Russia, \" + name + \"has to study a large amount of relevant literature in English.\""
   ]
  },
  {
   "cell_type": "code",
   "execution_count": 25,
   "metadata": {
    "collapsed": false
   },
   "outputs": [
    {
     "name": "stdout",
     "output_type": "stream",
     "text": [
      "Dear Sir or Madame,\n",
      "\n",
      "\n",
      "I am pleased to provide you with this online letter of recommendation in support of George Kudryavtsev. I am supervisor of his research work at the department of Computational Mathematics and Cybernetics at Lomonosov Moscow State University.\n",
      "\n",
      "I first met George in September, 2014 when he came to learn about my scientific interests. He also spoke to my colleagues and demonstrated his deep interest to our scientific field. George had excellent academic progress and I was glad to become his research advisor. George attended lectures and seminars I gave at the department. I could positively say that George was among the top students of the group. I would like to make special mention of George talent to learn and structure new information. I also supervised George’s scientific research. I would like to mention his high motivation for research work and organizational abilities.\n",
      "\n",
      "His research was devoted to recommender systems.  In addition George employed his good programming skills to implement many algorithms.\n",
      "I consider George as a very promising researcher and confidently recommend his for «the master's program at the Skolkovo Institute of Science and Technology».\n",
      "\n",
      "If you require any further information, please do not hesitate to contact me: djakonov@mail.ru.\n",
      "\n",
      "D’yakonov A. G.\n",
      "Doctor of Sciences,\n",
      "Professor of Department of Mathematical Methods of Forecasting at Lomonosov Moscow State University\n"
     ]
    }
   ],
   "source": [
    "print (\"Dear Sir or Madame,\\n\\n\")\n",
    "print (\"I am pleased to provide you with this online letter of recommendation in support of \" + fullname + \\\n",
    "       \". I am supervisor of \" + his + \" research work at the department of Computational Mathematics and Cybernetics at Lomonosov Moscow State University.\\n\")\n",
    "print (\"I first met \" + name + \" in \" + when + \" when \" + he + \" came to learn about my scientific interests. \" + He + \" also spoke to my colleagues and demonstrated \" + his + \" deep interest to our scientific field. \" + \\\n",
    "       name + \" had excellent academic progress and I was glad to become \" + his + \" research advisor. \" + name + \\\n",
    "       \" attended lectures and seminars I gave at the department. I could positively say that \" + name +\n",
    "       \" was among the top students of the group. I would like to make special mention of \" + name + \\\n",
    "       \" talent to learn and structure new information. I also supervised \" + name + \"’s scientific research. I would like to mention \" + his + \" high motivation for research work and organizational abilities.\\n\")\n",
    "print (His + \" research was devoted to \" + research + '. ' + comment + ' In addition ' + name + ' employed his good programming skills to implement many algorithms.')\n",
    "print (\"I consider \" + name + \" as a very promising researcher and confidently recommend his for «\" + to + \"».\\n\")\n",
    "print (\"If you require any further information, please do not hesitate to contact me: djakonov@mail.ru.\\n\")\n",
    "print (\"D’yakonov A. G.\")\n",
    "print (\"Doctor of Sciences,\")\n",
    "print (\"Professor of Department of Mathematical Methods of Forecasting at Lomonosov Moscow State University\")"
   ]
  }
 ],
 "metadata": {
  "kernelspec": {
   "display_name": "Python 3",
   "language": "python",
   "name": "python3"
  },
  "language_info": {
   "codemirror_mode": {
    "name": "ipython",
    "version": 3
   },
   "file_extension": ".py",
   "mimetype": "text/x-python",
   "name": "python",
   "nbconvert_exporter": "python",
   "pygments_lexer": "ipython3",
   "version": "3.5.0"
  }
 },
 "nbformat": 4,
 "nbformat_minor": 0
}
