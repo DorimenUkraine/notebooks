{
 "cells": [
  {
   "cell_type": "markdown",
   "metadata": {},
   "source": [
    "# Тупой бенчмарк"
   ]
  },
  {
   "cell_type": "code",
   "execution_count": null,
   "metadata": {},
   "outputs": [],
   "source": [
    "# подгружаем все нужные пакеты\n",
    "import pandas as pd\n",
    "import numpy as np\n",
    "# для встроенных картинок\n",
    "%pylab inline\n",
    "import matplotlib.pyplot as plt"
   ]
  },
  {
   "cell_type": "code",
   "execution_count": 2,
   "metadata": {},
   "outputs": [],
   "source": [
    "train = pd.read_csv(\"train.csv\", encoding='cp1251')"
   ]
  },
  {
   "cell_type": "code",
   "execution_count": 9,
   "metadata": {},
   "outputs": [],
   "source": [
    "test = pd.read_csv(\"test.csv\", encoding='cp1251')"
   ]
  },
  {
   "cell_type": "code",
   "execution_count": 16,
   "metadata": {},
   "outputs": [],
   "source": [
    "def prepare_data(d, cf=True):\n",
    "    print ('Time')\n",
    "    tmp = d['Interval'].str.split('-')\n",
    "    d['int0']=tmp.apply(lambda x: int(x[0]))\n",
    "    d['int1']=tmp.apply(lambda x: int(x[1][:-1]))\n",
    "    del d['Interval']\n",
    "    \n",
    "    print ('Date')\n",
    "    d.OrderDate = pd.to_datetime(d.OrderDate)\n",
    "    d.Date = pd.to_datetime(d.Date)\n",
    "    \n",
    "    deltaT = (d.OrderDate - d.Date).dt.days.astype(int).values\n",
    "    d['deltaT'] = deltaT\n",
    "    \n",
    "    print ('Day')\n",
    "    d['Date_day'] = d.Date.dt.day\n",
    "    d['Date_month'] = d.Date.dt.month\n",
    "    d['Date_weekday'] = d.Date.dt.weekday\n",
    "    # train['Date_year'] = train.Date.dt.year\n",
    "    \n",
    "    d['OrderDate_day'] = d.OrderDate.dt.day\n",
    "    d['OrderDate_month'] = d.OrderDate.dt.month\n",
    "    d['OrderDate_weekday'] = d.OrderDate.dt.weekday\n",
    "    # train['OrderDate_year'] = train.OrderDate.dt.year\n",
    "    \n",
    "    del d['Date']\n",
    "    del d['OrderDate']\n",
    "    \n",
    "    print ('Type')\n",
    "    d['DeliveryType'] = d['DeliveryType'].map({'Обычная доставка': 0, 'Доставка День в День': 1})\n",
    "    \n",
    "    print ('Groupby')\n",
    "    cols = ['ChannelID', 'ClientID', 'DeliveryType', 'prepay', 'count_edit', 'int0', 'int1', 'deltaT', 'Date_day', 'Date_month', 'Date_weekday',\n",
    "       'OrderDate_day', 'OrderDate_month', 'OrderDate_weekday']\n",
    "    if cf:\n",
    "        cols = cols + ['CancelFlag']\n",
    "    \n",
    "    data = d.groupby('OrderID')[cols].first()\n",
    "    \n",
    "    print ('Num')\n",
    "    data['num'] = d.groupby('OrderID')['GroupID'].count()\n",
    "    data['sum'] = d.groupby('OrderID')['OrderCnt'].sum()\n",
    "    data['num/sum'] = data['num'] / data['sum']\n",
    "    \n",
    "    if cf:\n",
    "        y = data.pop('CancelFlag')\n",
    "        return (data, y)\n",
    "    return (data)"
   ]
  },
  {
   "cell_type": "code",
   "execution_count": 23,
   "metadata": {},
   "outputs": [
    {
     "name": "stdout",
     "output_type": "stream",
     "text": [
      "Time\n",
      "Date\n",
      "Day\n",
      "Type\n",
      "Groupby\n",
      "Num\n"
     ]
    }
   ],
   "source": [
    "data2 = prepare_data(test, cf=False)"
   ]
  },
  {
   "cell_type": "code",
   "execution_count": 24,
   "metadata": {},
   "outputs": [
    {
     "name": "stdout",
     "output_type": "stream",
     "text": [
      "Time\n",
      "Date\n",
      "Day\n",
      "Type\n",
      "Groupby\n",
      "Num\n"
     ]
    }
   ],
   "source": [
    "data, y = prepare_data(train, cf=True)"
   ]
  },
  {
   "cell_type": "code",
   "execution_count": 29,
   "metadata": {},
   "outputs": [
    {
     "name": "stdout",
     "output_type": "stream",
     "text": [
      "[100]\tcv_agg's auc: 0.697344 + 0.00654333\n",
      "[200]\tcv_agg's auc: 0.702906 + 0.00615931\n",
      "[300]\tcv_agg's auc: 0.706133 + 0.0055678\n",
      "[400]\tcv_agg's auc: 0.707971 + 0.00560712\n",
      "[500]\tcv_agg's auc: 0.709498 + 0.00520707\n",
      "[600]\tcv_agg's auc: 0.710534 + 0.00546179\n",
      "[700]\tcv_agg's auc: 0.71134 + 0.00563445\n",
      "[800]\tcv_agg's auc: 0.712172 + 0.00550675\n",
      "[900]\tcv_agg's auc: 0.712418 + 0.00562642\n",
      "[1000]\tcv_agg's auc: 0.712741 + 0.00559418\n"
     ]
    },
    {
     "data": {
      "text/plain": [
       "0.7127633282147994"
      ]
     },
     "execution_count": 29,
     "metadata": {},
     "output_type": "execute_result"
    }
   ],
   "source": [
    "import lightgbm as lgb\n",
    "\n",
    "param = {'n_estimators':1000, 'num_leaves':6, 'objective':'binary',\n",
    "         'learning_rate': 0.1, 'colsample_bytree': 0.75, 'subsample': 0.75,\n",
    "        'metric': 'auc'}\n",
    "         \n",
    "w = lgb.cv(param, lgb.Dataset(data, label=y),\n",
    "           stratified=False,\n",
    "           num_boost_round=1000, nfold=4, verbose_eval=100)\n",
    "max(w['auc-mean'])"
   ]
  },
  {
   "cell_type": "code",
   "execution_count": 33,
   "metadata": {},
   "outputs": [
    {
     "data": {
      "text/plain": [
       "978"
      ]
     },
     "execution_count": 33,
     "metadata": {},
     "output_type": "execute_result"
    }
   ],
   "source": [
    "np.argmax(w['auc-mean'])"
   ]
  },
  {
   "cell_type": "code",
   "execution_count": 32,
   "metadata": {},
   "outputs": [
    {
     "name": "stdout",
     "output_type": "stream",
     "text": [
      "[100]\tcv_agg's auc: 0.700747 + 0.0060651\n",
      "[200]\tcv_agg's auc: 0.705531 + 0.00576664\n",
      "[300]\tcv_agg's auc: 0.708824 + 0.0056635\n",
      "[400]\tcv_agg's auc: 0.710562 + 0.00555759\n",
      "[500]\tcv_agg's auc: 0.711568 + 0.0050531\n",
      "[600]\tcv_agg's auc: 0.712369 + 0.00498233\n",
      "[700]\tcv_agg's auc: 0.71297 + 0.0050313\n",
      "[800]\tcv_agg's auc: 0.713529 + 0.00490358\n",
      "[900]\tcv_agg's auc: 0.713833 + 0.0047361\n",
      "[1000]\tcv_agg's auc: 0.71383 + 0.00477599\n"
     ]
    },
    {
     "data": {
      "text/plain": [
       "0.7139605983784897"
      ]
     },
     "execution_count": 32,
     "metadata": {},
     "output_type": "execute_result"
    }
   ],
   "source": [
    "import lightgbm as lgb\n",
    "\n",
    "param = {'n_estimators':1000, 'num_leaves':8, 'objective':'binary',\n",
    "         'learning_rate': 0.1, 'colsample_bytree': 0.75, 'subsample': 0.75,\n",
    "        'metric': 'auc'}\n",
    "         \n",
    "w = lgb.cv(param, lgb.Dataset(data, label=y),\n",
    "           stratified=False,\n",
    "           num_boost_round=1000, nfold=4, verbose_eval=100)\n",
    "max(w['auc-mean'])"
   ]
  },
  {
   "cell_type": "code",
   "execution_count": 36,
   "metadata": {},
   "outputs": [],
   "source": [
    "model = lgb.LGBMClassifier(learning_rate=0.1, num_leaves=8,\n",
    "                          n_estimators=1000,\n",
    "                          colsample_bytree=0.75, subsample=0.75, random_state=1)\n",
    "model.fit(data, y)\n",
    "a = model.predict_proba(data2)[:,1]"
   ]
  },
  {
   "cell_type": "code",
   "execution_count": 47,
   "metadata": {},
   "outputs": [],
   "source": [
    "pd.DataFrame({'ID': [str(x) + ' ' for x in  data2.index], ' Score': a}).to_csv('constant.csv', index=False)"
   ]
  },
  {
   "cell_type": "code",
   "execution_count": null,
   "metadata": {},
   "outputs": [],
   "source": []
  }
 ],
 "metadata": {
  "kernelspec": {
   "display_name": "Python 3",
   "language": "python",
   "name": "python3"
  },
  "language_info": {
   "codemirror_mode": {
    "name": "ipython",
    "version": 3
   },
   "file_extension": ".py",
   "mimetype": "text/x-python",
   "name": "python",
   "nbconvert_exporter": "python",
   "pygments_lexer": "ipython3",
   "version": "3.6.8"
  }
 },
 "nbformat": 4,
 "nbformat_minor": 2
}
