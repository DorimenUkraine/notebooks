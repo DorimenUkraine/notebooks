{
 "cells": [
  {
   "cell_type": "markdown",
   "metadata": {},
   "source": [
    "# Бенчмарк для задачи OneTwoTrip Contest\n",
    "\n",
    "https://boosters.pro/championship/onetwotrip_challenge/overview\n",
    "    \n",
    "    \n",
    "для студентов ВМК МГУ\n",
    "\n",
    "2019, Александр Дьяконов www.dyakonov.org/ag/"
   ]
  },
  {
   "cell_type": "code",
   "execution_count": 2,
   "metadata": {},
   "outputs": [
    {
     "name": "stdout",
     "output_type": "stream",
     "text": [
      "Populating the interactive namespace from numpy and matplotlib\n"
     ]
    }
   ],
   "source": [
    "# подгружаем все нужные пакеты\n",
    "import pandas as pd\n",
    "import numpy as np\n",
    "# для встроенных картинок\n",
    "%pylab inline\n",
    "# отключить предупреждения\n",
    "import warnings\n",
    "warnings.filterwarnings('ignore')\n",
    "# прогресс-бар\n",
    "from tqdm import tqdm, tqdm_notebook"
   ]
  },
  {
   "cell_type": "markdown",
   "metadata": {},
   "source": [
    "## загрузка данных"
   ]
  },
  {
   "cell_type": "code",
   "execution_count": 3,
   "metadata": {},
   "outputs": [
    {
     "name": "stdout",
     "output_type": "stream",
     "text": [
      "размеры: (196056, 43) (455011, 37)\n"
     ]
    }
   ],
   "source": [
    "data_train = pd.read_csv('onetwotrip_challenge_train.csv')\n",
    "data_test = pd.read_csv('onetwotrip_challenge_test.csv')\n",
    "print ('размеры:', data_train.shape, data_test.shape)"
   ]
  },
  {
   "cell_type": "markdown",
   "metadata": {},
   "source": [
    "## посмотрим на данные\n",
    "\n",
    "обратите внимание, как выводятся дата-фреймы"
   ]
  },
  {
   "cell_type": "code",
   "execution_count": 4,
   "metadata": {},
   "outputs": [
    {
     "data": {
      "text/html": [
       "<div>\n",
       "<style scoped>\n",
       "    .dataframe tbody tr th:only-of-type {\n",
       "        vertical-align: middle;\n",
       "    }\n",
       "\n",
       "    .dataframe tbody tr th {\n",
       "        vertical-align: top;\n",
       "    }\n",
       "\n",
       "    .dataframe thead th {\n",
       "        text-align: right;\n",
       "    }\n",
       "</style>\n",
       "<table border=\"1\" class=\"dataframe\">\n",
       "  <thead>\n",
       "    <tr style=\"text-align: right;\">\n",
       "      <th></th>\n",
       "      <th>orderid</th>\n",
       "      <th>userid</th>\n",
       "      <th>field0</th>\n",
       "      <th>field1</th>\n",
       "      <th>field2</th>\n",
       "      <th>field3</th>\n",
       "      <th>field4</th>\n",
       "      <th>field5</th>\n",
       "      <th>field6</th>\n",
       "      <th>field7</th>\n",
       "      <th>...</th>\n",
       "      <th>indicator_goal22</th>\n",
       "      <th>indicator_goal23</th>\n",
       "      <th>indicator_goal24</th>\n",
       "      <th>indicator_goal25</th>\n",
       "      <th>goal21</th>\n",
       "      <th>goal22</th>\n",
       "      <th>goal23</th>\n",
       "      <th>goal24</th>\n",
       "      <th>goal25</th>\n",
       "      <th>goal1</th>\n",
       "    </tr>\n",
       "  </thead>\n",
       "  <tbody>\n",
       "    <tr>\n",
       "      <th>0</th>\n",
       "      <td>0</td>\n",
       "      <td>10d654494cbe97bbb25d51ead2600679aff9e097924add...</td>\n",
       "      <td>0</td>\n",
       "      <td>-0.626508</td>\n",
       "      <td>11</td>\n",
       "      <td>12</td>\n",
       "      <td>1</td>\n",
       "      <td>1</td>\n",
       "      <td>0</td>\n",
       "      <td>1</td>\n",
       "      <td>...</td>\n",
       "      <td>1</td>\n",
       "      <td>0</td>\n",
       "      <td>1</td>\n",
       "      <td>1</td>\n",
       "      <td>0</td>\n",
       "      <td>1</td>\n",
       "      <td>0</td>\n",
       "      <td>0</td>\n",
       "      <td>0</td>\n",
       "      <td>0</td>\n",
       "    </tr>\n",
       "    <tr>\n",
       "      <th>1</th>\n",
       "      <td>1</td>\n",
       "      <td>4aafc0391f72bbcf60537aece62923baf9ce644b64ac36...</td>\n",
       "      <td>144</td>\n",
       "      <td>-0.393794</td>\n",
       "      <td>5</td>\n",
       "      <td>7</td>\n",
       "      <td>2</td>\n",
       "      <td>0</td>\n",
       "      <td>0</td>\n",
       "      <td>2</td>\n",
       "      <td>...</td>\n",
       "      <td>1</td>\n",
       "      <td>0</td>\n",
       "      <td>1</td>\n",
       "      <td>0</td>\n",
       "      <td>0</td>\n",
       "      <td>0</td>\n",
       "      <td>0</td>\n",
       "      <td>0</td>\n",
       "      <td>0</td>\n",
       "      <td>0</td>\n",
       "    </tr>\n",
       "    <tr>\n",
       "      <th>2</th>\n",
       "      <td>2</td>\n",
       "      <td>bac8ffef46348f587c8d17137ab01fb24aef21547c647d...</td>\n",
       "      <td>134</td>\n",
       "      <td>-0.548937</td>\n",
       "      <td>2</td>\n",
       "      <td>3</td>\n",
       "      <td>2</td>\n",
       "      <td>0</td>\n",
       "      <td>0</td>\n",
       "      <td>1</td>\n",
       "      <td>...</td>\n",
       "      <td>1</td>\n",
       "      <td>0</td>\n",
       "      <td>1</td>\n",
       "      <td>1</td>\n",
       "      <td>0</td>\n",
       "      <td>0</td>\n",
       "      <td>0</td>\n",
       "      <td>0</td>\n",
       "      <td>0</td>\n",
       "      <td>0</td>\n",
       "    </tr>\n",
       "    <tr>\n",
       "      <th>3</th>\n",
       "      <td>3</td>\n",
       "      <td>0392247b4b87674aba2c32bf2292b105771a6a376871be...</td>\n",
       "      <td>0</td>\n",
       "      <td>-0.238651</td>\n",
       "      <td>10</td>\n",
       "      <td>11</td>\n",
       "      <td>1</td>\n",
       "      <td>1</td>\n",
       "      <td>3</td>\n",
       "      <td>2</td>\n",
       "      <td>...</td>\n",
       "      <td>1</td>\n",
       "      <td>0</td>\n",
       "      <td>1</td>\n",
       "      <td>1</td>\n",
       "      <td>0</td>\n",
       "      <td>0</td>\n",
       "      <td>0</td>\n",
       "      <td>0</td>\n",
       "      <td>0</td>\n",
       "      <td>0</td>\n",
       "    </tr>\n",
       "    <tr>\n",
       "      <th>4</th>\n",
       "      <td>4</td>\n",
       "      <td>d1aeefef311bbeb4bd84876c8d49421f276674527d5578...</td>\n",
       "      <td>0</td>\n",
       "      <td>-0.704079</td>\n",
       "      <td>8</td>\n",
       "      <td>11</td>\n",
       "      <td>1</td>\n",
       "      <td>1</td>\n",
       "      <td>0</td>\n",
       "      <td>1</td>\n",
       "      <td>...</td>\n",
       "      <td>1</td>\n",
       "      <td>0</td>\n",
       "      <td>0</td>\n",
       "      <td>1</td>\n",
       "      <td>0</td>\n",
       "      <td>0</td>\n",
       "      <td>0</td>\n",
       "      <td>0</td>\n",
       "      <td>0</td>\n",
       "      <td>0</td>\n",
       "    </tr>\n",
       "  </tbody>\n",
       "</table>\n",
       "<p>5 rows × 43 columns</p>\n",
       "</div>"
      ],
      "text/plain": [
       "   orderid                                             userid  field0  \\\n",
       "0        0  10d654494cbe97bbb25d51ead2600679aff9e097924add...       0   \n",
       "1        1  4aafc0391f72bbcf60537aece62923baf9ce644b64ac36...     144   \n",
       "2        2  bac8ffef46348f587c8d17137ab01fb24aef21547c647d...     134   \n",
       "3        3  0392247b4b87674aba2c32bf2292b105771a6a376871be...       0   \n",
       "4        4  d1aeefef311bbeb4bd84876c8d49421f276674527d5578...       0   \n",
       "\n",
       "     field1  field2  field3  field4  field5  field6  field7  ...  \\\n",
       "0 -0.626508      11      12       1       1       0       1  ...   \n",
       "1 -0.393794       5       7       2       0       0       2  ...   \n",
       "2 -0.548937       2       3       2       0       0       1  ...   \n",
       "3 -0.238651      10      11       1       1       3       2  ...   \n",
       "4 -0.704079       8      11       1       1       0       1  ...   \n",
       "\n",
       "   indicator_goal22  indicator_goal23  indicator_goal24  indicator_goal25  \\\n",
       "0                 1                 0                 1                 1   \n",
       "1                 1                 0                 1                 0   \n",
       "2                 1                 0                 1                 1   \n",
       "3                 1                 0                 1                 1   \n",
       "4                 1                 0                 0                 1   \n",
       "\n",
       "   goal21  goal22  goal23  goal24  goal25  goal1  \n",
       "0       0       1       0       0       0      0  \n",
       "1       0       0       0       0       0      0  \n",
       "2       0       0       0       0       0      0  \n",
       "3       0       0       0       0       0      0  \n",
       "4       0       0       0       0       0      0  \n",
       "\n",
       "[5 rows x 43 columns]"
      ]
     },
     "execution_count": 4,
     "metadata": {},
     "output_type": "execute_result"
    }
   ],
   "source": [
    "data_train.head()"
   ]
  },
  {
   "cell_type": "code",
   "execution_count": 5,
   "metadata": {},
   "outputs": [
    {
     "data": {
      "text/html": [
       "<div>\n",
       "<style scoped>\n",
       "    .dataframe tbody tr th:only-of-type {\n",
       "        vertical-align: middle;\n",
       "    }\n",
       "\n",
       "    .dataframe tbody tr th {\n",
       "        vertical-align: top;\n",
       "    }\n",
       "\n",
       "    .dataframe thead th {\n",
       "        text-align: right;\n",
       "    }\n",
       "</style>\n",
       "<table border=\"1\" class=\"dataframe\">\n",
       "  <thead>\n",
       "    <tr style=\"text-align: right;\">\n",
       "      <th></th>\n",
       "      <th>orderid</th>\n",
       "      <th>userid</th>\n",
       "      <th>field0</th>\n",
       "      <th>field1</th>\n",
       "      <th>field2</th>\n",
       "      <th>field3</th>\n",
       "      <th>field4</th>\n",
       "      <th>field5</th>\n",
       "      <th>field6</th>\n",
       "      <th>field7</th>\n",
       "      <th>...</th>\n",
       "      <th>field25</th>\n",
       "      <th>field26</th>\n",
       "      <th>field27</th>\n",
       "      <th>field28</th>\n",
       "      <th>field29</th>\n",
       "      <th>indicator_goal21</th>\n",
       "      <th>indicator_goal22</th>\n",
       "      <th>indicator_goal23</th>\n",
       "      <th>indicator_goal24</th>\n",
       "      <th>indicator_goal25</th>\n",
       "    </tr>\n",
       "  </thead>\n",
       "  <tbody>\n",
       "    <tr>\n",
       "      <th>0</th>\n",
       "      <td>0</td>\n",
       "      <td>3a6a6af55e097d3f92705936a7ea3ca8aef651f5966832...</td>\n",
       "      <td>0</td>\n",
       "      <td>-0.548937</td>\n",
       "      <td>10</td>\n",
       "      <td>10</td>\n",
       "      <td>1</td>\n",
       "      <td>1</td>\n",
       "      <td>0</td>\n",
       "      <td>1</td>\n",
       "      <td>...</td>\n",
       "      <td>1</td>\n",
       "      <td>1</td>\n",
       "      <td>1</td>\n",
       "      <td>0</td>\n",
       "      <td>4</td>\n",
       "      <td>1</td>\n",
       "      <td>1</td>\n",
       "      <td>0</td>\n",
       "      <td>0</td>\n",
       "      <td>1</td>\n",
       "    </tr>\n",
       "    <tr>\n",
       "      <th>1</th>\n",
       "      <td>1</td>\n",
       "      <td>2df10f61960163da94a4294773ed9c865296e37c330304...</td>\n",
       "      <td>82</td>\n",
       "      <td>-0.626508</td>\n",
       "      <td>3</td>\n",
       "      <td>4</td>\n",
       "      <td>3</td>\n",
       "      <td>0</td>\n",
       "      <td>0</td>\n",
       "      <td>1</td>\n",
       "      <td>...</td>\n",
       "      <td>1</td>\n",
       "      <td>1</td>\n",
       "      <td>1</td>\n",
       "      <td>0</td>\n",
       "      <td>1</td>\n",
       "      <td>1</td>\n",
       "      <td>1</td>\n",
       "      <td>0</td>\n",
       "      <td>1</td>\n",
       "      <td>1</td>\n",
       "    </tr>\n",
       "    <tr>\n",
       "      <th>2</th>\n",
       "      <td>2</td>\n",
       "      <td>20dc3fec5b5eb42fbfe08119063c3a0010a73c7ec94abb...</td>\n",
       "      <td>0</td>\n",
       "      <td>-0.548937</td>\n",
       "      <td>6</td>\n",
       "      <td>8</td>\n",
       "      <td>1</td>\n",
       "      <td>1</td>\n",
       "      <td>0</td>\n",
       "      <td>2</td>\n",
       "      <td>...</td>\n",
       "      <td>35</td>\n",
       "      <td>1</td>\n",
       "      <td>1</td>\n",
       "      <td>0</td>\n",
       "      <td>2</td>\n",
       "      <td>1</td>\n",
       "      <td>0</td>\n",
       "      <td>0</td>\n",
       "      <td>1</td>\n",
       "      <td>1</td>\n",
       "    </tr>\n",
       "    <tr>\n",
       "      <th>3</th>\n",
       "      <td>3</td>\n",
       "      <td>ed75b3496977bac207eccb59dc91fe9a8d6a27777a6422...</td>\n",
       "      <td>6</td>\n",
       "      <td>0.304348</td>\n",
       "      <td>7</td>\n",
       "      <td>7</td>\n",
       "      <td>2</td>\n",
       "      <td>0</td>\n",
       "      <td>10</td>\n",
       "      <td>1</td>\n",
       "      <td>...</td>\n",
       "      <td>1</td>\n",
       "      <td>3</td>\n",
       "      <td>1</td>\n",
       "      <td>0</td>\n",
       "      <td>3</td>\n",
       "      <td>1</td>\n",
       "      <td>1</td>\n",
       "      <td>0</td>\n",
       "      <td>1</td>\n",
       "      <td>1</td>\n",
       "    </tr>\n",
       "    <tr>\n",
       "      <th>4</th>\n",
       "      <td>4</td>\n",
       "      <td>a346d08351c5fd0bda82984ed7c8b12b6395829da5b857...</td>\n",
       "      <td>115</td>\n",
       "      <td>-0.471365</td>\n",
       "      <td>3</td>\n",
       "      <td>3</td>\n",
       "      <td>2</td>\n",
       "      <td>0</td>\n",
       "      <td>0</td>\n",
       "      <td>1</td>\n",
       "      <td>...</td>\n",
       "      <td>1</td>\n",
       "      <td>1</td>\n",
       "      <td>1</td>\n",
       "      <td>0</td>\n",
       "      <td>1</td>\n",
       "      <td>1</td>\n",
       "      <td>1</td>\n",
       "      <td>0</td>\n",
       "      <td>1</td>\n",
       "      <td>1</td>\n",
       "    </tr>\n",
       "  </tbody>\n",
       "</table>\n",
       "<p>5 rows × 37 columns</p>\n",
       "</div>"
      ],
      "text/plain": [
       "   orderid                                             userid  field0  \\\n",
       "0        0  3a6a6af55e097d3f92705936a7ea3ca8aef651f5966832...       0   \n",
       "1        1  2df10f61960163da94a4294773ed9c865296e37c330304...      82   \n",
       "2        2  20dc3fec5b5eb42fbfe08119063c3a0010a73c7ec94abb...       0   \n",
       "3        3  ed75b3496977bac207eccb59dc91fe9a8d6a27777a6422...       6   \n",
       "4        4  a346d08351c5fd0bda82984ed7c8b12b6395829da5b857...     115   \n",
       "\n",
       "     field1  field2  field3  field4  field5  field6  field7  ...  field25  \\\n",
       "0 -0.548937      10      10       1       1       0       1  ...        1   \n",
       "1 -0.626508       3       4       3       0       0       1  ...        1   \n",
       "2 -0.548937       6       8       1       1       0       2  ...       35   \n",
       "3  0.304348       7       7       2       0      10       1  ...        1   \n",
       "4 -0.471365       3       3       2       0       0       1  ...        1   \n",
       "\n",
       "   field26  field27  field28  field29  indicator_goal21  indicator_goal22  \\\n",
       "0        1        1        0        4                 1                 1   \n",
       "1        1        1        0        1                 1                 1   \n",
       "2        1        1        0        2                 1                 0   \n",
       "3        3        1        0        3                 1                 1   \n",
       "4        1        1        0        1                 1                 1   \n",
       "\n",
       "   indicator_goal23  indicator_goal24  indicator_goal25  \n",
       "0                 0                 0                 1  \n",
       "1                 0                 1                 1  \n",
       "2                 0                 1                 1  \n",
       "3                 0                 1                 1  \n",
       "4                 0                 1                 1  \n",
       "\n",
       "[5 rows x 37 columns]"
      ]
     },
     "execution_count": 5,
     "metadata": {},
     "output_type": "execute_result"
    }
   ],
   "source": [
    "data_test.head()"
   ]
  },
  {
   "cell_type": "markdown",
   "metadata": {},
   "source": [
    "## получаем таблички для обучения"
   ]
  },
  {
   "cell_type": "code",
   "execution_count": 6,
   "metadata": {},
   "outputs": [],
   "source": [
    "# удаляем ненужные признаки\n",
    "ids = data_test.pop('orderid') # сохраняем id для теста\n",
    "data_test.drop(['userid'], inplace=True, axis=1)"
   ]
  },
  {
   "cell_type": "code",
   "execution_count": 7,
   "metadata": {},
   "outputs": [
    {
     "data": {
      "text/plain": [
       "Index(['field0', 'field1', 'field2', 'field3', 'field4', 'field5', 'field6',\n",
       "       'field7', 'field8', 'field9', 'field10', 'field11', 'field12',\n",
       "       'field13', 'field14', 'field15', 'field16', 'field17', 'field18',\n",
       "       'field19', 'field20', 'field21', 'field22', 'field23', 'field24',\n",
       "       'field25', 'field26', 'field27', 'field28', 'field29',\n",
       "       'indicator_goal21', 'indicator_goal22', 'indicator_goal23',\n",
       "       'indicator_goal24', 'indicator_goal25'],\n",
       "      dtype='object')"
      ]
     },
     "execution_count": 7,
     "metadata": {},
     "output_type": "execute_result"
    }
   ],
   "source": [
    "cols = data_test.columns # значимые колонки\n",
    "cols"
   ]
  },
  {
   "cell_type": "code",
   "execution_count": 8,
   "metadata": {},
   "outputs": [],
   "source": [
    "y = data_train.pop('goal1') # целевая переменная для первой задачи"
   ]
  },
  {
   "cell_type": "code",
   "execution_count": 9,
   "metadata": {},
   "outputs": [],
   "source": [
    "y = y.values # мне так спокойней - в numpy.array"
   ]
  },
  {
   "cell_type": "code",
   "execution_count": 10,
   "metadata": {},
   "outputs": [],
   "source": [
    "data_train = data_train[cols] # оставить только нужные колонки"
   ]
  },
  {
   "cell_type": "code",
   "execution_count": 11,
   "metadata": {},
   "outputs": [
    {
     "data": {
      "text/html": [
       "<div>\n",
       "<style scoped>\n",
       "    .dataframe tbody tr th:only-of-type {\n",
       "        vertical-align: middle;\n",
       "    }\n",
       "\n",
       "    .dataframe tbody tr th {\n",
       "        vertical-align: top;\n",
       "    }\n",
       "\n",
       "    .dataframe thead th {\n",
       "        text-align: right;\n",
       "    }\n",
       "</style>\n",
       "<table border=\"1\" class=\"dataframe\">\n",
       "  <thead>\n",
       "    <tr style=\"text-align: right;\">\n",
       "      <th></th>\n",
       "      <th>field0</th>\n",
       "      <th>field1</th>\n",
       "      <th>field2</th>\n",
       "      <th>field3</th>\n",
       "      <th>field4</th>\n",
       "      <th>field5</th>\n",
       "      <th>field6</th>\n",
       "      <th>field7</th>\n",
       "      <th>field8</th>\n",
       "      <th>field9</th>\n",
       "      <th>...</th>\n",
       "      <th>field25</th>\n",
       "      <th>field26</th>\n",
       "      <th>field27</th>\n",
       "      <th>field28</th>\n",
       "      <th>field29</th>\n",
       "      <th>indicator_goal21</th>\n",
       "      <th>indicator_goal22</th>\n",
       "      <th>indicator_goal23</th>\n",
       "      <th>indicator_goal24</th>\n",
       "      <th>indicator_goal25</th>\n",
       "    </tr>\n",
       "  </thead>\n",
       "  <tbody>\n",
       "    <tr>\n",
       "      <th>0</th>\n",
       "      <td>0</td>\n",
       "      <td>-0.626508</td>\n",
       "      <td>11</td>\n",
       "      <td>12</td>\n",
       "      <td>1</td>\n",
       "      <td>1</td>\n",
       "      <td>0</td>\n",
       "      <td>1</td>\n",
       "      <td>1</td>\n",
       "      <td>0</td>\n",
       "      <td>...</td>\n",
       "      <td>1</td>\n",
       "      <td>2</td>\n",
       "      <td>1</td>\n",
       "      <td>0</td>\n",
       "      <td>4</td>\n",
       "      <td>1</td>\n",
       "      <td>1</td>\n",
       "      <td>0</td>\n",
       "      <td>1</td>\n",
       "      <td>1</td>\n",
       "    </tr>\n",
       "    <tr>\n",
       "      <th>1</th>\n",
       "      <td>144</td>\n",
       "      <td>-0.393794</td>\n",
       "      <td>5</td>\n",
       "      <td>7</td>\n",
       "      <td>2</td>\n",
       "      <td>0</td>\n",
       "      <td>0</td>\n",
       "      <td>2</td>\n",
       "      <td>1</td>\n",
       "      <td>0</td>\n",
       "      <td>...</td>\n",
       "      <td>41</td>\n",
       "      <td>3</td>\n",
       "      <td>1</td>\n",
       "      <td>0</td>\n",
       "      <td>2</td>\n",
       "      <td>1</td>\n",
       "      <td>1</td>\n",
       "      <td>0</td>\n",
       "      <td>1</td>\n",
       "      <td>0</td>\n",
       "    </tr>\n",
       "    <tr>\n",
       "      <th>2</th>\n",
       "      <td>134</td>\n",
       "      <td>-0.548937</td>\n",
       "      <td>2</td>\n",
       "      <td>3</td>\n",
       "      <td>2</td>\n",
       "      <td>0</td>\n",
       "      <td>0</td>\n",
       "      <td>1</td>\n",
       "      <td>1</td>\n",
       "      <td>0</td>\n",
       "      <td>...</td>\n",
       "      <td>1</td>\n",
       "      <td>11</td>\n",
       "      <td>7</td>\n",
       "      <td>0</td>\n",
       "      <td>1</td>\n",
       "      <td>1</td>\n",
       "      <td>1</td>\n",
       "      <td>0</td>\n",
       "      <td>1</td>\n",
       "      <td>1</td>\n",
       "    </tr>\n",
       "    <tr>\n",
       "      <th>3</th>\n",
       "      <td>0</td>\n",
       "      <td>-0.238651</td>\n",
       "      <td>10</td>\n",
       "      <td>11</td>\n",
       "      <td>1</td>\n",
       "      <td>1</td>\n",
       "      <td>3</td>\n",
       "      <td>2</td>\n",
       "      <td>1</td>\n",
       "      <td>0</td>\n",
       "      <td>...</td>\n",
       "      <td>18</td>\n",
       "      <td>1</td>\n",
       "      <td>1</td>\n",
       "      <td>0</td>\n",
       "      <td>4</td>\n",
       "      <td>1</td>\n",
       "      <td>1</td>\n",
       "      <td>0</td>\n",
       "      <td>1</td>\n",
       "      <td>1</td>\n",
       "    </tr>\n",
       "    <tr>\n",
       "      <th>4</th>\n",
       "      <td>0</td>\n",
       "      <td>-0.704079</td>\n",
       "      <td>8</td>\n",
       "      <td>11</td>\n",
       "      <td>1</td>\n",
       "      <td>1</td>\n",
       "      <td>0</td>\n",
       "      <td>1</td>\n",
       "      <td>1</td>\n",
       "      <td>0</td>\n",
       "      <td>...</td>\n",
       "      <td>1</td>\n",
       "      <td>1</td>\n",
       "      <td>1</td>\n",
       "      <td>0</td>\n",
       "      <td>3</td>\n",
       "      <td>1</td>\n",
       "      <td>1</td>\n",
       "      <td>0</td>\n",
       "      <td>0</td>\n",
       "      <td>1</td>\n",
       "    </tr>\n",
       "  </tbody>\n",
       "</table>\n",
       "<p>5 rows × 35 columns</p>\n",
       "</div>"
      ],
      "text/plain": [
       "   field0    field1  field2  field3  field4  field5  field6  field7  field8  \\\n",
       "0       0 -0.626508      11      12       1       1       0       1       1   \n",
       "1     144 -0.393794       5       7       2       0       0       2       1   \n",
       "2     134 -0.548937       2       3       2       0       0       1       1   \n",
       "3       0 -0.238651      10      11       1       1       3       2       1   \n",
       "4       0 -0.704079       8      11       1       1       0       1       1   \n",
       "\n",
       "   field9  ...  field25  field26  field27  field28  field29  indicator_goal21  \\\n",
       "0       0  ...        1        2        1        0        4                 1   \n",
       "1       0  ...       41        3        1        0        2                 1   \n",
       "2       0  ...        1       11        7        0        1                 1   \n",
       "3       0  ...       18        1        1        0        4                 1   \n",
       "4       0  ...        1        1        1        0        3                 1   \n",
       "\n",
       "   indicator_goal22  indicator_goal23  indicator_goal24  indicator_goal25  \n",
       "0                 1                 0                 1                 1  \n",
       "1                 1                 0                 1                 0  \n",
       "2                 1                 0                 1                 1  \n",
       "3                 1                 0                 1                 1  \n",
       "4                 1                 0                 0                 1  \n",
       "\n",
       "[5 rows x 35 columns]"
      ]
     },
     "execution_count": 11,
     "metadata": {},
     "output_type": "execute_result"
    }
   ],
   "source": [
    "# что получилось\n",
    "data_train.head()"
   ]
  },
  {
   "cell_type": "markdown",
   "metadata": {},
   "source": [
    "### Эксперименты\n",
    "\n",
    "сначала делим выборку на обучение и тест\n",
    "\n",
    "не самое лучшее решение, но для быстроты экспериментов сгодится"
   ]
  },
  {
   "cell_type": "code",
   "execution_count": 12,
   "metadata": {},
   "outputs": [],
   "source": [
    "from sklearn.model_selection import train_test_split\n",
    "X_train, X_test, y_train, y_test = train_test_split(data_train, y, test_size=0.3, random_state=1)"
   ]
  },
  {
   "cell_type": "markdown",
   "metadata": {},
   "source": [
    "### Случайный лес\n",
    "\n",
    "\n",
    "строим по одному дереву и вычисляем метрику качества (ROC AUC)\n",
    "\n",
    "обратите внимание на прогресс-бар"
   ]
  },
  {
   "cell_type": "code",
   "execution_count": 14,
   "metadata": {},
   "outputs": [
    {
     "data": {
      "application/vnd.jupyter.widget-view+json": {
       "model_id": "f2be4ed53aa84261896b78ba8c029131",
       "version_major": 2,
       "version_minor": 0
      },
      "text/plain": [
       "HBox(children=(IntProgress(value=0), HTML(value='')))"
      ]
     },
     "metadata": {},
     "output_type": "display_data"
    },
    {
     "name": "stdout",
     "output_type": "stream",
     "text": [
      "\n"
     ]
    },
    {
     "data": {
      "text/plain": [
       "[<matplotlib.lines.Line2D at 0x7fce3be62f60>]"
      ]
     },
     "execution_count": 14,
     "metadata": {},
     "output_type": "execute_result"
    },
    {
     "data": {
      "image/png": "[encoded data removed]",
      "text/plain": [
       "<Figure size 432x288 with 1 Axes>"
      ]
     },
     "metadata": {
      "needs_background": "light"
     },
     "output_type": "display_data"
    }
   ],
   "source": [
    "from sklearn.ensemble import RandomForestClassifier\n",
    "from sklearn.metrics import roc_auc_score\n",
    "\n",
    "model = RandomForestClassifier(max_features=1, n_estimators=1, oob_score=False, warm_start=True, random_state=1)\n",
    "\n",
    "aucs = []\n",
    "for t in tqdm_notebook(list(range(1, 101))):\n",
    "    model.set_params(n_estimators=t)\n",
    "    model.fit(X_train, y_train)\n",
    "    a = model.predict_proba(X_test)[:, 1]\n",
    "    q = roc_auc_score(y_test, a)\n",
    "    aucs.append(q)\n",
    "    \n",
    "plt.plot(range(1, 101), aucs)"
   ]
  },
  {
   "cell_type": "code",
   "execution_count": 46,
   "metadata": {},
   "outputs": [
    {
     "data": {
      "application/vnd.jupyter.widget-view+json": {
       "model_id": "08b2382018ab4201b3b2c5904899732f",
       "version_major": 2,
       "version_minor": 0
      },
      "text/plain": [
       "HBox(children=(IntProgress(value=0), HTML(value='')))"
      ]
     },
     "metadata": {},
     "output_type": "display_data"
    },
    {
     "data": {
      "text/plain": [
       "[<matplotlib.lines.Line2D at 0x7f4a4fa8a5f8>]"
      ]
     },
     "execution_count": 46,
     "metadata": {},
     "output_type": "execute_result"
    },
    {
     "data": {
      "image/png": "[encoded data removed]",
      "text/plain": [
       "<Figure size 432x288 with 1 Axes>"
      ]
     },
     "metadata": {
      "needs_background": "light"
     },
     "output_type": "display_data"
    }
   ],
   "source": [
    "# аналогичные эксперименты с max_features=2\n",
    "\n",
    "model = RandomForestClassifier(max_features=2, n_estimators=1, oob_score=False, warm_start=True, random_state=1)\n",
    "\n",
    "aucs = []\n",
    "for t in tqdm_notebook(list(range(1, 101))):\n",
    "    model.set_params(n_estimators=t)\n",
    "    model.fit(X_train, y_train)\n",
    "    a = model.predict_proba(X_test)[:, 1]\n",
    "    q = roc_auc_score(y_test, a)\n",
    "    aucs.append(q)\n",
    "    \n",
    "plt.plot(range(1, 101), aucs)   "
   ]
  },
  {
   "cell_type": "markdown",
   "metadata": {},
   "source": [
    "# Козырь\n",
    "\n",
    "более хорошая модель из другой библиотеки"
   ]
  },
  {
   "cell_type": "code",
   "execution_count": 15,
   "metadata": {},
   "outputs": [],
   "source": [
    "import lightgbm as lgb\n",
    "model = lgb.LGBMClassifier(num_leaves=6, learning_rate=0.1, n_estimators=300)"
   ]
  },
  {
   "cell_type": "code",
   "execution_count": 16,
   "metadata": {},
   "outputs": [
    {
     "name": "stdout",
     "output_type": "stream",
     "text": [
      "[50]\tvalid_0's auc: 0.68674\tvalid_1's auc: 0.665981\n",
      "[100]\tvalid_0's auc: 0.71142\tvalid_1's auc: 0.675922\n",
      "[150]\tvalid_0's auc: 0.727589\tvalid_1's auc: 0.676426\n",
      "[200]\tvalid_0's auc: 0.739755\tvalid_1's auc: 0.678309\n",
      "[250]\tvalid_0's auc: 0.748912\tvalid_1's auc: 0.678582\n",
      "[300]\tvalid_0's auc: 0.757664\tvalid_1's auc: 0.678602\n",
      "[350]\tvalid_0's auc: 0.764987\tvalid_1's auc: 0.677316\n",
      "[400]\tvalid_0's auc: 0.771289\tvalid_1's auc: 0.676125\n",
      "[450]\tvalid_0's auc: 0.77833\tvalid_1's auc: 0.675192\n",
      "[500]\tvalid_0's auc: 0.784456\tvalid_1's auc: 0.674098\n"
     ]
    }
   ],
   "source": [
    "param = {'num_leaves': 6, 'objective': 'binary', 'learning_rate': 0.1}\n",
    "param['metric'] = 'auc'\n",
    "\n",
    "q = lgb.train(param, train_set=lgb.Dataset(X_train, y_train), num_boost_round=500,\n",
    "              valid_sets=[lgb.Dataset(X_train, y_train), lgb.Dataset(X_test, y_test)],\n",
    "             verbose_eval=50)"
   ]
  },
  {
   "cell_type": "markdown",
   "metadata": {},
   "source": [
    "тут сразу качество лучше"
   ]
  },
  {
   "cell_type": "markdown",
   "metadata": {},
   "source": [
    "### Обучение и формирование ответа"
   ]
  },
  {
   "cell_type": "code",
   "execution_count": 17,
   "metadata": {},
   "outputs": [
    {
     "data": {
      "text/plain": [
       "LGBMClassifier(boosting_type='gbdt', class_weight=None, colsample_bytree=1.0,\n",
       "        learning_rate=0.1, max_depth=-1, min_child_samples=20,\n",
       "        min_child_weight=0.001, min_split_gain=0.0, n_estimators=300,\n",
       "        n_jobs=-1, num_leaves=6, objective=None, random_state=None,\n",
       "        reg_alpha=0.0, reg_lambda=0.0, silent=True, subsample=1.0,\n",
       "        subsample_for_bin=200000, subsample_freq=1)"
      ]
     },
     "execution_count": 17,
     "metadata": {},
     "output_type": "execute_result"
    }
   ],
   "source": [
    "model.fit(data_train, y)"
   ]
  },
  {
   "cell_type": "code",
   "execution_count": 18,
   "metadata": {},
   "outputs": [],
   "source": [
    "a = model.predict_proba(data_test)[:, 1] # вероятности за 1й класс"
   ]
  },
  {
   "cell_type": "code",
   "execution_count": 19,
   "metadata": {},
   "outputs": [],
   "source": [
    "pd.DataFrame(a,  columns=['proba'], index=ids.values).to_csv('dj1_01_.csv')"
   ]
  }
 ],
 "metadata": {
  "kernelspec": {
   "display_name": "Python 3",
   "language": "python",
   "name": "python3"
  },
  "language_info": {
   "codemirror_mode": {
    "name": "ipython",
    "version": 3
   },
   "file_extension": ".py",
   "mimetype": "text/x-python",
   "name": "python",
   "nbconvert_exporter": "python",
   "pygments_lexer": "ipython3",
   "version": "3.6.7"
  }
 },
 "nbformat": 4,
 "nbformat_minor": 2
}
