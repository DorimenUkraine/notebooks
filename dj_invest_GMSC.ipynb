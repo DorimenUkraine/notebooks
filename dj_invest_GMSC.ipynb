{
 "cells": [
  {
   "cell_type": "markdown",
   "metadata": {},
   "source": [
    "# этапы решения задачи на реальном примере\n",
    "\n",
    "для курса \"Машинное обучение и анализ данных\" https://github.com/Dyakonov/MLDM/\n",
    "    \n",
    "2019, Александр Дьяконов https://dyakonov.org/ag/"
   ]
  },
  {
   "cell_type": "code",
   "execution_count": 2,
   "metadata": {},
   "outputs": [
    {
     "name": "stdout",
     "output_type": "stream",
     "text": [
      "Populating the interactive namespace from numpy and matplotlib\n"
     ]
    }
   ],
   "source": [
    "import pandas as pd\n",
    "import numpy as np\n",
    "%pylab inline\n",
    "plt.style.use('seaborn-dark')\n",
    "import warnings\n",
    "warnings.filterwarnings(\"ignore\") # отключение варнингов\n",
    "pd.set_option('display.max_columns', None) # pd.options.display.max_columns = None \n",
    "# pd.set_option('display.max_rows', None) # не прятать столбцы при выводе дата-фреймов\n",
    "import matplotlib.pyplot as plt\n",
    "import matplotlib as mpl\n",
    "plt.rc('font', size=14)"
   ]
  },
  {
   "cell_type": "markdown",
   "metadata": {},
   "source": [
    "# загрузили данные"
   ]
  },
  {
   "cell_type": "code",
   "execution_count": 3,
   "metadata": {},
   "outputs": [],
   "source": [
    "train = pd.read_csv('./data_GMSC/train.csv')\n",
    "test = pd.read_csv('./data_GMSC/test.csv')"
   ]
  },
  {
   "cell_type": "code",
   "execution_count": 4,
   "metadata": {},
   "outputs": [
    {
     "name": "stdout",
     "output_type": "stream",
     "text": [
      "(112500, 11) (37500, 10)\n"
     ]
    }
   ],
   "source": [
    "# размеры данных\n",
    "print(train.shape, test.shape)"
   ]
  },
  {
   "cell_type": "markdown",
   "metadata": {},
   "source": [
    "# посмотрели"
   ]
  },
  {
   "cell_type": "code",
   "execution_count": 5,
   "metadata": {},
   "outputs": [
    {
     "data": {
      "text/html": [
       "<div>\n",
       "<style scoped>\n",
       "    .dataframe tbody tr th:only-of-type {\n",
       "        vertical-align: middle;\n",
       "    }\n",
       "\n",
       "    .dataframe tbody tr th {\n",
       "        vertical-align: top;\n",
       "    }\n",
       "\n",
       "    .dataframe thead th {\n",
       "        text-align: right;\n",
       "    }\n",
       "</style>\n",
       "<table border=\"1\" class=\"dataframe\">\n",
       "  <thead>\n",
       "    <tr style=\"text-align: right;\">\n",
       "      <th></th>\n",
       "      <th>плохой_клиент</th>\n",
       "      <th>линии</th>\n",
       "      <th>возраст</th>\n",
       "      <th>поведение_30-59_дней</th>\n",
       "      <th>Debt_Ratio</th>\n",
       "      <th>доход</th>\n",
       "      <th>число_кредитов</th>\n",
       "      <th>поведение_90_дней</th>\n",
       "      <th>недвижимость</th>\n",
       "      <th>поведение_60-89_дней</th>\n",
       "      <th>семья</th>\n",
       "    </tr>\n",
       "  </thead>\n",
       "  <tbody>\n",
       "    <tr>\n",
       "      <th>22126</th>\n",
       "      <td>0</td>\n",
       "      <td>0.357596</td>\n",
       "      <td>52</td>\n",
       "      <td>2</td>\n",
       "      <td>0.532058</td>\n",
       "      <td>4600.0</td>\n",
       "      <td>14</td>\n",
       "      <td>0</td>\n",
       "      <td>1</td>\n",
       "      <td>0</td>\n",
       "      <td>4.0</td>\n",
       "    </tr>\n",
       "    <tr>\n",
       "      <th>54387</th>\n",
       "      <td>0</td>\n",
       "      <td>0.056145</td>\n",
       "      <td>60</td>\n",
       "      <td>0</td>\n",
       "      <td>56.000000</td>\n",
       "      <td>NaN</td>\n",
       "      <td>4</td>\n",
       "      <td>0</td>\n",
       "      <td>0</td>\n",
       "      <td>0</td>\n",
       "      <td>0.0</td>\n",
       "    </tr>\n",
       "    <tr>\n",
       "      <th>815</th>\n",
       "      <td>0</td>\n",
       "      <td>0.447224</td>\n",
       "      <td>45</td>\n",
       "      <td>0</td>\n",
       "      <td>0.653607</td>\n",
       "      <td>9009.0</td>\n",
       "      <td>14</td>\n",
       "      <td>0</td>\n",
       "      <td>3</td>\n",
       "      <td>0</td>\n",
       "      <td>3.0</td>\n",
       "    </tr>\n",
       "    <tr>\n",
       "      <th>13043</th>\n",
       "      <td>0</td>\n",
       "      <td>0.098810</td>\n",
       "      <td>54</td>\n",
       "      <td>0</td>\n",
       "      <td>0.203736</td>\n",
       "      <td>19166.0</td>\n",
       "      <td>15</td>\n",
       "      <td>0</td>\n",
       "      <td>2</td>\n",
       "      <td>0</td>\n",
       "      <td>4.0</td>\n",
       "    </tr>\n",
       "    <tr>\n",
       "      <th>75469</th>\n",
       "      <td>0</td>\n",
       "      <td>0.683554</td>\n",
       "      <td>34</td>\n",
       "      <td>0</td>\n",
       "      <td>0.264168</td>\n",
       "      <td>5416.0</td>\n",
       "      <td>9</td>\n",
       "      <td>0</td>\n",
       "      <td>1</td>\n",
       "      <td>0</td>\n",
       "      <td>2.0</td>\n",
       "    </tr>\n",
       "  </tbody>\n",
       "</table>\n",
       "</div>"
      ],
      "text/plain": [
       "       плохой_клиент     линии  возраст  поведение_30-59_дней  Debt_Ratio  \\\n",
       "22126              0  0.357596       52                     2    0.532058   \n",
       "54387              0  0.056145       60                     0   56.000000   \n",
       "815                0  0.447224       45                     0    0.653607   \n",
       "13043              0  0.098810       54                     0    0.203736   \n",
       "75469              0  0.683554       34                     0    0.264168   \n",
       "\n",
       "         доход  число_кредитов  поведение_90_дней  недвижимость  \\\n",
       "22126   4600.0              14                  0             1   \n",
       "54387      NaN               4                  0             0   \n",
       "815     9009.0              14                  0             3   \n",
       "13043  19166.0              15                  0             2   \n",
       "75469   5416.0               9                  0             1   \n",
       "\n",
       "       поведение_60-89_дней  семья  \n",
       "22126                     0    4.0  \n",
       "54387                     0    0.0  \n",
       "815                       0    3.0  \n",
       "13043                     0    4.0  \n",
       "75469                     0    2.0  "
      ]
     },
     "execution_count": 5,
     "metadata": {},
     "output_type": "execute_result"
    }
   ],
   "source": [
    "train.sample(5)"
   ]
  },
  {
   "cell_type": "markdown",
   "metadata": {},
   "source": [
    "# особенности"
   ]
  },
  {
   "cell_type": "markdown",
   "metadata": {},
   "source": [
    "Нам повезло: нет категориальных признаков - не надо думать о кодировках\n",
    "    \n",
    "Но есть пропуски: пока не будем думать о них (попробуйте придкмать что-то умнее) - заменим (-1)"
   ]
  },
  {
   "cell_type": "code",
   "execution_count": 6,
   "metadata": {},
   "outputs": [
    {
     "data": {
      "text/plain": [
       "((112500, 10), (112500,))"
      ]
     },
     "execution_count": 6,
     "metadata": {},
     "output_type": "execute_result"
    }
   ],
   "source": [
    "y = train.pop('плохой_клиент') # целевой вектор\n",
    "train.shape, y.shape"
   ]
  },
  {
   "cell_type": "code",
   "execution_count": 7,
   "metadata": {},
   "outputs": [],
   "source": [
    "# заменить пропуски на -11\n",
    "train.fillna(-1, inplace=True)\n",
    "test.fillna(-1, inplace=True)"
   ]
  },
  {
   "cell_type": "markdown",
   "metadata": {},
   "source": [
    "у нас задача бинарной классификации:"
   ]
  },
  {
   "cell_type": "code",
   "execution_count": 8,
   "metadata": {},
   "outputs": [
    {
     "data": {
      "text/plain": [
       "array([0, 1])"
      ]
     },
     "execution_count": 8,
     "metadata": {},
     "output_type": "execute_result"
    }
   ],
   "source": [
    "np.unique(y)"
   ]
  },
  {
   "cell_type": "markdown",
   "metadata": {},
   "source": [
    "перечислим подходящие алгоритмы для бинарной классификации (тут, кстати, не все алгоритмы):"
   ]
  },
  {
   "cell_type": "code",
   "execution_count": 16,
   "metadata": {},
   "outputs": [],
   "source": [
    "from sklearn.linear_model import LogisticRegression\n",
    "from sklearn.svm import LinearSVC\n",
    "from sklearn.linear_model import SGDClassifier\n",
    "from sklearn.neighbors import KNeighborsClassifier\n",
    "from sklearn.ensemble import RandomForestClassifier\n",
    "from sklearn.ensemble import ExtraTreesClassifier\n",
    "from sklearn.ensemble import GradientBoostingClassifier\n",
    "\n",
    "models = {'лог_регрессия': LogisticRegression(),\n",
    "          'лин_svm': LinearSVC(),\n",
    "          'SGD': SGDClassifier(),\n",
    "          'knn': KNeighborsClassifier(),\n",
    "          'RF': RandomForestClassifier(),\n",
    "          'ETC': ExtraTreesClassifier(),\n",
    "          'GBM': GradientBoostingClassifier()}     "
   ]
  },
  {
   "cell_type": "markdown",
   "metadata": {},
   "source": [
    "поэкспериментируем со всеми алгоритмами (параметры по умолчанию)"
   ]
  },
  {
   "cell_type": "code",
   "execution_count": 22,
   "metadata": {},
   "outputs": [
    {
     "name": "stdout",
     "output_type": "stream",
     "text": [
      "лог_регрессия auc=0.697 std=0.011\n",
      "лин_svm auc=0.565 std=0.029\n",
      "SGD auc=0.537 std=0.036\n",
      "knn auc=0.568 std=0.008\n",
      "RF auc=0.777 std=0.007\n",
      "ETC auc=0.778 std=0.01\n",
      "GBM auc=0.866 std=0.002\n"
     ]
    }
   ],
   "source": [
    "from sklearn.model_selection import cross_val_score\n",
    "from sklearn.model_selection import ShuffleSplit\n",
    "\n",
    "cv = ShuffleSplit(n_splits=5, test_size=0.1, train_size=None, random_state=1)\n",
    "\n",
    "for model_name in models:\n",
    "    model = models[model_name]\n",
    "    cvs = cross_val_score(model, train, y, cv=cv, scoring='roc_auc')\n",
    "    print (model_name, f\"auc={np.round(np.mean(cvs), 3)}\", f\"std={np.round(np.std(cvs), 3)}\")"
   ]
  },
  {
   "cell_type": "markdown",
   "metadata": {},
   "source": [
    "некоторые алгоритмы долго обучаются\n",
    "\n",
    "совет: поймите какие и от чего это зависит!\n",
    "\n",
    "пока самый лучший алгоритм - **градиентный бустинг**\n",
    "\n",
    "здесь метрика качества - AUC ROC\n",
    "https://dyakonov.org/2017/07/28/auc-roc-%D0%BF%D0%BB%D0%BE%D1%89%D0%B0%D0%B4%D1%8C-%D0%BF%D0%BE%D0%B4-%D0%BA%D1%80%D0%B8%D0%B2%D0%BE%D0%B9-%D0%BE%D1%88%D0%B8%D0%B1%D0%BE%D0%BA/\n",
    "\n",
    "Метрик качества очень много! Вот некоторые из них:"
   ]
  },
  {
   "cell_type": "code",
   "execution_count": 14,
   "metadata": {},
   "outputs": [
    {
     "data": {
      "text/plain": [
       "dict_keys(['explained_variance', 'r2', 'neg_median_absolute_error', 'neg_mean_absolute_error', 'neg_mean_squared_error', 'neg_mean_squared_log_error', 'accuracy', 'roc_auc', 'balanced_accuracy', 'average_precision', 'neg_log_loss', 'brier_score_loss', 'adjusted_rand_score', 'homogeneity_score', 'completeness_score', 'v_measure_score', 'mutual_info_score', 'adjusted_mutual_info_score', 'normalized_mutual_info_score', 'fowlkes_mallows_score', 'precision', 'precision_macro', 'precision_micro', 'precision_samples', 'precision_weighted', 'recall', 'recall_macro', 'recall_micro', 'recall_samples', 'recall_weighted', 'f1', 'f1_macro', 'f1_micro', 'f1_samples', 'f1_weighted'])"
      ]
     },
     "execution_count": 14,
     "metadata": {},
     "output_type": "execute_result"
    }
   ],
   "source": [
    "from sklearn.metrics import SCORERS\n",
    "SCORERS.keys()"
   ]
  },
  {
   "cell_type": "markdown",
   "metadata": {},
   "source": [
    "настроим параметры бустинга"
   ]
  },
  {
   "cell_type": "code",
   "execution_count": 28,
   "metadata": {},
   "outputs": [
    {
     "data": {
      "text/plain": [
       "RandomizedSearchCV(cv=ShuffleSplit(n_splits=5, random_state=None, test_size=0.1, train_size=None),\n",
       "          error_score='raise-deprecating',\n",
       "          estimator=GradientBoostingClassifier(criterion='friedman_mse', init=None,\n",
       "              learning_rate=0.1, loss='deviance', max_depth=3,\n",
       "              max_features=None, max_leaf_nodes=None,\n",
       "              min_impurity_decrease=0.0, min_impurity_split=None,\n",
       "              min_samples_leaf=1, min_sampl...      subsample=1.0, tol=0.0001, validation_fraction=0.1,\n",
       "              verbose=0, warm_start=False),\n",
       "          fit_params=None, iid='warn', n_iter=10, n_jobs=-1,\n",
       "          param_distributions={'learning_rate': [0.05, 0.1, 0.2], 'subsample': [0.5, 1.0], 'max_depth': [1, 2, 3, 4, 5], 'max_features': [0.5, 0.75, 1.0]},\n",
       "          pre_dispatch='2*n_jobs', random_state=None, refit=True,\n",
       "          return_train_score='warn', scoring='roc_auc', verbose=0)"
      ]
     },
     "execution_count": 28,
     "metadata": {},
     "output_type": "execute_result"
    }
   ],
   "source": [
    "from sklearn.model_selection import RandomizedSearchCV\n",
    "\n",
    "params = {'learning_rate': [0.05, 0.1, 0.2], 'subsample': [0.5, 1.0], 'max_depth': [1, 2, 3, 4, 5], 'max_features': [0.5, 0.75, 1.0]}\n",
    "\n",
    "model = GradientBoostingClassifier()\n",
    "\n",
    "rs = RandomizedSearchCV(model, params, n_iter=10, scoring='roc_auc', n_jobs=-1, cv=cv)\n",
    "\n",
    "rs.fit(train, y)"
   ]
  },
  {
   "cell_type": "code",
   "execution_count": 30,
   "metadata": {},
   "outputs": [
    {
     "data": {
      "text/html": [
       "<div>\n",
       "<style scoped>\n",
       "    .dataframe tbody tr th:only-of-type {\n",
       "        vertical-align: middle;\n",
       "    }\n",
       "\n",
       "    .dataframe tbody tr th {\n",
       "        vertical-align: top;\n",
       "    }\n",
       "\n",
       "    .dataframe thead th {\n",
       "        text-align: right;\n",
       "    }\n",
       "</style>\n",
       "<table border=\"1\" class=\"dataframe\">\n",
       "  <thead>\n",
       "    <tr style=\"text-align: right;\">\n",
       "      <th></th>\n",
       "      <th>mean_fit_time</th>\n",
       "      <th>std_fit_time</th>\n",
       "      <th>mean_score_time</th>\n",
       "      <th>std_score_time</th>\n",
       "      <th>param_subsample</th>\n",
       "      <th>param_max_features</th>\n",
       "      <th>param_max_depth</th>\n",
       "      <th>param_learning_rate</th>\n",
       "      <th>params</th>\n",
       "      <th>split0_test_score</th>\n",
       "      <th>split1_test_score</th>\n",
       "      <th>split2_test_score</th>\n",
       "      <th>split3_test_score</th>\n",
       "      <th>split4_test_score</th>\n",
       "      <th>mean_test_score</th>\n",
       "      <th>std_test_score</th>\n",
       "      <th>rank_test_score</th>\n",
       "      <th>split0_train_score</th>\n",
       "      <th>split1_train_score</th>\n",
       "      <th>split2_train_score</th>\n",
       "      <th>split3_train_score</th>\n",
       "      <th>split4_train_score</th>\n",
       "      <th>mean_train_score</th>\n",
       "      <th>std_train_score</th>\n",
       "    </tr>\n",
       "  </thead>\n",
       "  <tbody>\n",
       "    <tr>\n",
       "      <th>0</th>\n",
       "      <td>6.836809</td>\n",
       "      <td>0.289080</td>\n",
       "      <td>0.018913</td>\n",
       "      <td>0.000148</td>\n",
       "      <td>1</td>\n",
       "      <td>0.75</td>\n",
       "      <td>4</td>\n",
       "      <td>0.05</td>\n",
       "      <td>{'subsample': 1.0, 'max_features': 0.75, 'max_...</td>\n",
       "      <td>0.864399</td>\n",
       "      <td>0.868879</td>\n",
       "      <td>0.862285</td>\n",
       "      <td>0.851924</td>\n",
       "      <td>0.846587</td>\n",
       "      <td>0.858815</td>\n",
       "      <td>0.008265</td>\n",
       "      <td>6</td>\n",
       "      <td>0.868508</td>\n",
       "      <td>0.867889</td>\n",
       "      <td>0.868400</td>\n",
       "      <td>0.869092</td>\n",
       "      <td>0.869901</td>\n",
       "      <td>0.868758</td>\n",
       "      <td>0.000688</td>\n",
       "    </tr>\n",
       "    <tr>\n",
       "      <th>1</th>\n",
       "      <td>6.139652</td>\n",
       "      <td>1.158666</td>\n",
       "      <td>0.020198</td>\n",
       "      <td>0.007867</td>\n",
       "      <td>1</td>\n",
       "      <td>0.75</td>\n",
       "      <td>3</td>\n",
       "      <td>0.05</td>\n",
       "      <td>{'subsample': 1.0, 'max_features': 0.75, 'max_...</td>\n",
       "      <td>0.863162</td>\n",
       "      <td>0.867577</td>\n",
       "      <td>0.860194</td>\n",
       "      <td>0.850598</td>\n",
       "      <td>0.845386</td>\n",
       "      <td>0.857383</td>\n",
       "      <td>0.008187</td>\n",
       "      <td>9</td>\n",
       "      <td>0.863949</td>\n",
       "      <td>0.863699</td>\n",
       "      <td>0.864472</td>\n",
       "      <td>0.865349</td>\n",
       "      <td>0.865811</td>\n",
       "      <td>0.864656</td>\n",
       "      <td>0.000808</td>\n",
       "    </tr>\n",
       "    <tr>\n",
       "      <th>2</th>\n",
       "      <td>7.081066</td>\n",
       "      <td>0.455116</td>\n",
       "      <td>0.019497</td>\n",
       "      <td>0.000924</td>\n",
       "      <td>0.5</td>\n",
       "      <td>0.5</td>\n",
       "      <td>4</td>\n",
       "      <td>0.05</td>\n",
       "      <td>{'subsample': 0.5, 'max_features': 0.5, 'max_d...</td>\n",
       "      <td>0.864676</td>\n",
       "      <td>0.869023</td>\n",
       "      <td>0.862186</td>\n",
       "      <td>0.852309</td>\n",
       "      <td>0.846378</td>\n",
       "      <td>0.858914</td>\n",
       "      <td>0.008329</td>\n",
       "      <td>5</td>\n",
       "      <td>0.867170</td>\n",
       "      <td>0.866971</td>\n",
       "      <td>0.867352</td>\n",
       "      <td>0.869077</td>\n",
       "      <td>0.869399</td>\n",
       "      <td>0.867994</td>\n",
       "      <td>0.001028</td>\n",
       "    </tr>\n",
       "    <tr>\n",
       "      <th>3</th>\n",
       "      <td>4.471708</td>\n",
       "      <td>0.441073</td>\n",
       "      <td>0.013420</td>\n",
       "      <td>0.004068</td>\n",
       "      <td>0.5</td>\n",
       "      <td>0.75</td>\n",
       "      <td>2</td>\n",
       "      <td>0.2</td>\n",
       "      <td>{'subsample': 0.5, 'max_features': 0.75, 'max_...</td>\n",
       "      <td>0.864668</td>\n",
       "      <td>0.867907</td>\n",
       "      <td>0.861987</td>\n",
       "      <td>0.850504</td>\n",
       "      <td>0.847244</td>\n",
       "      <td>0.858462</td>\n",
       "      <td>0.008116</td>\n",
       "      <td>7</td>\n",
       "      <td>0.864127</td>\n",
       "      <td>0.865011</td>\n",
       "      <td>0.865198</td>\n",
       "      <td>0.866355</td>\n",
       "      <td>0.866536</td>\n",
       "      <td>0.865445</td>\n",
       "      <td>0.000895</td>\n",
       "    </tr>\n",
       "    <tr>\n",
       "      <th>4</th>\n",
       "      <td>2.114495</td>\n",
       "      <td>0.046776</td>\n",
       "      <td>0.009247</td>\n",
       "      <td>0.000988</td>\n",
       "      <td>1</td>\n",
       "      <td>0.75</td>\n",
       "      <td>1</td>\n",
       "      <td>0.05</td>\n",
       "      <td>{'subsample': 1.0, 'max_features': 0.75, 'max_...</td>\n",
       "      <td>0.852736</td>\n",
       "      <td>0.855334</td>\n",
       "      <td>0.847909</td>\n",
       "      <td>0.840206</td>\n",
       "      <td>0.836336</td>\n",
       "      <td>0.846504</td>\n",
       "      <td>0.007236</td>\n",
       "      <td>10</td>\n",
       "      <td>0.851555</td>\n",
       "      <td>0.850605</td>\n",
       "      <td>0.850773</td>\n",
       "      <td>0.852862</td>\n",
       "      <td>0.853601</td>\n",
       "      <td>0.851879</td>\n",
       "      <td>0.001173</td>\n",
       "    </tr>\n",
       "    <tr>\n",
       "      <th>5</th>\n",
       "      <td>5.227625</td>\n",
       "      <td>0.426865</td>\n",
       "      <td>0.015371</td>\n",
       "      <td>0.000238</td>\n",
       "      <td>0.5</td>\n",
       "      <td>0.75</td>\n",
       "      <td>3</td>\n",
       "      <td>0.05</td>\n",
       "      <td>{'subsample': 0.5, 'max_features': 0.75, 'max_...</td>\n",
       "      <td>0.862699</td>\n",
       "      <td>0.868307</td>\n",
       "      <td>0.860850</td>\n",
       "      <td>0.849881</td>\n",
       "      <td>0.846355</td>\n",
       "      <td>0.857619</td>\n",
       "      <td>0.008213</td>\n",
       "      <td>8</td>\n",
       "      <td>0.863511</td>\n",
       "      <td>0.863461</td>\n",
       "      <td>0.864245</td>\n",
       "      <td>0.864770</td>\n",
       "      <td>0.866266</td>\n",
       "      <td>0.864451</td>\n",
       "      <td>0.001030</td>\n",
       "    </tr>\n",
       "    <tr>\n",
       "      <th>6</th>\n",
       "      <td>8.550311</td>\n",
       "      <td>0.636935</td>\n",
       "      <td>0.023514</td>\n",
       "      <td>0.000620</td>\n",
       "      <td>1</td>\n",
       "      <td>0.5</td>\n",
       "      <td>5</td>\n",
       "      <td>0.05</td>\n",
       "      <td>{'subsample': 1.0, 'max_features': 0.5, 'max_d...</td>\n",
       "      <td>0.865147</td>\n",
       "      <td>0.869298</td>\n",
       "      <td>0.862580</td>\n",
       "      <td>0.854252</td>\n",
       "      <td>0.848193</td>\n",
       "      <td>0.859894</td>\n",
       "      <td>0.007642</td>\n",
       "      <td>4</td>\n",
       "      <td>0.872683</td>\n",
       "      <td>0.873040</td>\n",
       "      <td>0.873156</td>\n",
       "      <td>0.874111</td>\n",
       "      <td>0.874701</td>\n",
       "      <td>0.873538</td>\n",
       "      <td>0.000749</td>\n",
       "    </tr>\n",
       "    <tr>\n",
       "      <th>7</th>\n",
       "      <td>5.745884</td>\n",
       "      <td>0.232485</td>\n",
       "      <td>0.017884</td>\n",
       "      <td>0.000216</td>\n",
       "      <td>0.5</td>\n",
       "      <td>0.5</td>\n",
       "      <td>4</td>\n",
       "      <td>0.1</td>\n",
       "      <td>{'subsample': 0.5, 'max_features': 0.5, 'max_d...</td>\n",
       "      <td>0.863934</td>\n",
       "      <td>0.869459</td>\n",
       "      <td>0.863171</td>\n",
       "      <td>0.854791</td>\n",
       "      <td>0.849844</td>\n",
       "      <td>0.860240</td>\n",
       "      <td>0.007000</td>\n",
       "      <td>3</td>\n",
       "      <td>0.870433</td>\n",
       "      <td>0.870615</td>\n",
       "      <td>0.872036</td>\n",
       "      <td>0.872633</td>\n",
       "      <td>0.872147</td>\n",
       "      <td>0.871573</td>\n",
       "      <td>0.000882</td>\n",
       "    </tr>\n",
       "    <tr>\n",
       "      <th>8</th>\n",
       "      <td>9.247265</td>\n",
       "      <td>0.295792</td>\n",
       "      <td>0.021539</td>\n",
       "      <td>0.000234</td>\n",
       "      <td>1</td>\n",
       "      <td>0.75</td>\n",
       "      <td>5</td>\n",
       "      <td>0.1</td>\n",
       "      <td>{'subsample': 1.0, 'max_features': 0.75, 'max_...</td>\n",
       "      <td>0.866498</td>\n",
       "      <td>0.869321</td>\n",
       "      <td>0.863294</td>\n",
       "      <td>0.854622</td>\n",
       "      <td>0.849150</td>\n",
       "      <td>0.860577</td>\n",
       "      <td>0.007549</td>\n",
       "      <td>2</td>\n",
       "      <td>0.879376</td>\n",
       "      <td>0.878538</td>\n",
       "      <td>0.879975</td>\n",
       "      <td>0.880051</td>\n",
       "      <td>0.880607</td>\n",
       "      <td>0.879709</td>\n",
       "      <td>0.000704</td>\n",
       "    </tr>\n",
       "    <tr>\n",
       "      <th>9</th>\n",
       "      <td>5.208328</td>\n",
       "      <td>0.149721</td>\n",
       "      <td>0.017666</td>\n",
       "      <td>0.000754</td>\n",
       "      <td>1</td>\n",
       "      <td>0.5</td>\n",
       "      <td>4</td>\n",
       "      <td>0.2</td>\n",
       "      <td>{'subsample': 1.0, 'max_features': 0.5, 'max_d...</td>\n",
       "      <td>0.867451</td>\n",
       "      <td>0.870034</td>\n",
       "      <td>0.864594</td>\n",
       "      <td>0.852394</td>\n",
       "      <td>0.849555</td>\n",
       "      <td>0.860806</td>\n",
       "      <td>0.008258</td>\n",
       "      <td>1</td>\n",
       "      <td>0.876857</td>\n",
       "      <td>0.877002</td>\n",
       "      <td>0.877972</td>\n",
       "      <td>0.877981</td>\n",
       "      <td>0.879370</td>\n",
       "      <td>0.877836</td>\n",
       "      <td>0.000900</td>\n",
       "    </tr>\n",
       "  </tbody>\n",
       "</table>\n",
       "</div>"
      ],
      "text/plain": [
       "   mean_fit_time  std_fit_time  mean_score_time  std_score_time  \\\n",
       "0       6.836809      0.289080         0.018913        0.000148   \n",
       "1       6.139652      1.158666         0.020198        0.007867   \n",
       "2       7.081066      0.455116         0.019497        0.000924   \n",
       "3       4.471708      0.441073         0.013420        0.004068   \n",
       "4       2.114495      0.046776         0.009247        0.000988   \n",
       "5       5.227625      0.426865         0.015371        0.000238   \n",
       "6       8.550311      0.636935         0.023514        0.000620   \n",
       "7       5.745884      0.232485         0.017884        0.000216   \n",
       "8       9.247265      0.295792         0.021539        0.000234   \n",
       "9       5.208328      0.149721         0.017666        0.000754   \n",
       "\n",
       "  param_subsample param_max_features param_max_depth param_learning_rate  \\\n",
       "0               1               0.75               4                0.05   \n",
       "1               1               0.75               3                0.05   \n",
       "2             0.5                0.5               4                0.05   \n",
       "3             0.5               0.75               2                 0.2   \n",
       "4               1               0.75               1                0.05   \n",
       "5             0.5               0.75               3                0.05   \n",
       "6               1                0.5               5                0.05   \n",
       "7             0.5                0.5               4                 0.1   \n",
       "8               1               0.75               5                 0.1   \n",
       "9               1                0.5               4                 0.2   \n",
       "\n",
       "                                              params  split0_test_score  \\\n",
       "0  {'subsample': 1.0, 'max_features': 0.75, 'max_...           0.864399   \n",
       "1  {'subsample': 1.0, 'max_features': 0.75, 'max_...           0.863162   \n",
       "2  {'subsample': 0.5, 'max_features': 0.5, 'max_d...           0.864676   \n",
       "3  {'subsample': 0.5, 'max_features': 0.75, 'max_...           0.864668   \n",
       "4  {'subsample': 1.0, 'max_features': 0.75, 'max_...           0.852736   \n",
       "5  {'subsample': 0.5, 'max_features': 0.75, 'max_...           0.862699   \n",
       "6  {'subsample': 1.0, 'max_features': 0.5, 'max_d...           0.865147   \n",
       "7  {'subsample': 0.5, 'max_features': 0.5, 'max_d...           0.863934   \n",
       "8  {'subsample': 1.0, 'max_features': 0.75, 'max_...           0.866498   \n",
       "9  {'subsample': 1.0, 'max_features': 0.5, 'max_d...           0.867451   \n",
       "\n",
       "   split1_test_score  split2_test_score  split3_test_score  split4_test_score  \\\n",
       "0           0.868879           0.862285           0.851924           0.846587   \n",
       "1           0.867577           0.860194           0.850598           0.845386   \n",
       "2           0.869023           0.862186           0.852309           0.846378   \n",
       "3           0.867907           0.861987           0.850504           0.847244   \n",
       "4           0.855334           0.847909           0.840206           0.836336   \n",
       "5           0.868307           0.860850           0.849881           0.846355   \n",
       "6           0.869298           0.862580           0.854252           0.848193   \n",
       "7           0.869459           0.863171           0.854791           0.849844   \n",
       "8           0.869321           0.863294           0.854622           0.849150   \n",
       "9           0.870034           0.864594           0.852394           0.849555   \n",
       "\n",
       "   mean_test_score  std_test_score  rank_test_score  split0_train_score  \\\n",
       "0         0.858815        0.008265                6            0.868508   \n",
       "1         0.857383        0.008187                9            0.863949   \n",
       "2         0.858914        0.008329                5            0.867170   \n",
       "3         0.858462        0.008116                7            0.864127   \n",
       "4         0.846504        0.007236               10            0.851555   \n",
       "5         0.857619        0.008213                8            0.863511   \n",
       "6         0.859894        0.007642                4            0.872683   \n",
       "7         0.860240        0.007000                3            0.870433   \n",
       "8         0.860577        0.007549                2            0.879376   \n",
       "9         0.860806        0.008258                1            0.876857   \n",
       "\n",
       "   split1_train_score  split2_train_score  split3_train_score  \\\n",
       "0            0.867889            0.868400            0.869092   \n",
       "1            0.863699            0.864472            0.865349   \n",
       "2            0.866971            0.867352            0.869077   \n",
       "3            0.865011            0.865198            0.866355   \n",
       "4            0.850605            0.850773            0.852862   \n",
       "5            0.863461            0.864245            0.864770   \n",
       "6            0.873040            0.873156            0.874111   \n",
       "7            0.870615            0.872036            0.872633   \n",
       "8            0.878538            0.879975            0.880051   \n",
       "9            0.877002            0.877972            0.877981   \n",
       "\n",
       "   split4_train_score  mean_train_score  std_train_score  \n",
       "0            0.869901          0.868758         0.000688  \n",
       "1            0.865811          0.864656         0.000808  \n",
       "2            0.869399          0.867994         0.001028  \n",
       "3            0.866536          0.865445         0.000895  \n",
       "4            0.853601          0.851879         0.001173  \n",
       "5            0.866266          0.864451         0.001030  \n",
       "6            0.874701          0.873538         0.000749  \n",
       "7            0.872147          0.871573         0.000882  \n",
       "8            0.880607          0.879709         0.000704  \n",
       "9            0.879370          0.877836         0.000900  "
      ]
     },
     "execution_count": 30,
     "metadata": {},
     "output_type": "execute_result"
    }
   ],
   "source": [
    "pd.DataFrame(rs.cv_results_)"
   ]
  },
  {
   "cell_type": "markdown",
   "metadata": {},
   "source": [
    "лучшие параметры"
   ]
  },
  {
   "cell_type": "code",
   "execution_count": 33,
   "metadata": {},
   "outputs": [
    {
     "data": {
      "text/plain": [
       "{'subsample': 1.0, 'max_features': 0.5, 'max_depth': 4, 'learning_rate': 0.2}"
      ]
     },
     "execution_count": 33,
     "metadata": {},
     "output_type": "execute_result"
    }
   ],
   "source": [
    "rs.cv_results_['params'][-1]"
   ]
  },
  {
   "cell_type": "markdown",
   "metadata": {},
   "source": [
    "ожидаемое качество"
   ]
  },
  {
   "cell_type": "code",
   "execution_count": 36,
   "metadata": {},
   "outputs": [
    {
     "data": {
      "text/plain": [
       "0.8608056678859954"
      ]
     },
     "execution_count": 36,
     "metadata": {},
     "output_type": "execute_result"
    }
   ],
   "source": [
    "rs.cv_results_['mean_test_score'][-1]"
   ]
  },
  {
   "cell_type": "markdown",
   "metadata": {},
   "source": [
    "Кстати, хуже параметров по умолчанию;)\n",
    "\n",
    "Мало экспериментов..."
   ]
  },
  {
   "cell_type": "markdown",
   "metadata": {},
   "source": [
    "# советы по улучшению\n",
    "\n",
    "раз лучшим оказался градиентный бустинг => смотрим его лучшие реализации\n",
    "\n",
    "* xgboost https://en.wikipedia.org/wiki/XGBoost\n",
    "* lightgbm https://github.com/Microsoft/LightGBM\n",
    "* catboost https://tech.yandex.ru/catboost/"
   ]
  }
 ],
 "metadata": {
  "kernelspec": {
   "display_name": "Python 3",
   "language": "python",
   "name": "python3"
  },
  "language_info": {
   "codemirror_mode": {
    "name": "ipython",
    "version": 3
   },
   "file_extension": ".py",
   "mimetype": "text/x-python",
   "name": "python",
   "nbconvert_exporter": "python",
   "pygments_lexer": "ipython3",
   "version": "3.6.8"
  }
 },
 "nbformat": 4,
 "nbformat_minor": 2
}
